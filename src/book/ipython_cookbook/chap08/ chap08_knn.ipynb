{
 "cells": [
  {
   "cell_type": "code",
   "execution_count": 7,
   "metadata": {},
   "outputs": [],
   "source": [
    "import numpy as np\n",
    "import sklearn\n",
    "import sklearn.datasets as ds\n",
    "import sklearn.cross_validation as cv\n",
    "import sklearn.neighbors as nb\n",
    "import matplotlib.pyplot as plt\n",
    "\n",
    "%matplotlib inline"
   ]
  },
  {
   "cell_type": "code",
   "execution_count": 8,
   "metadata": {},
   "outputs": [
    {
     "name": "stdout",
     "output_type": "stream",
     "text": [
      "(0.0, 16.0)\n",
      "(1797, 64)\n"
     ]
    }
   ],
   "source": [
    "# 手書き文字のデータセット 8 * 8 = 64ピクセルで0~16の値をとる\n",
    "digits = ds.load_digits() \n",
    "X = digits.data\n",
    "y = digits.target\n",
    "print((X.min(), X.max()))\n",
    "print(X.shape)"
   ]
  },
  {
   "cell_type": "code",
   "execution_count": 9,
   "metadata": {},
   "outputs": [
    {
     "data": {
      "image/png": "[encoded data removed]",
      "text/plain": [
       "<matplotlib.figure.Figure at 0x10ec7e6a0>"
      ]
     },
     "metadata": {},
     "output_type": "display_data"
    }
   ],
   "source": [
    "# 学習データを表示\n",
    "nrows, ncols = 2, 5\n",
    "plt.gray()\n",
    "for i in range(ncols * nrows):\n",
    "    ax = plt.subplot(nrows, ncols, i+1)\n",
    "    ax.matshow(digits.images[i,...])\n",
    "    plt.xticks([])\n",
    "    plt.yticks([])\n",
    "    plt.title(digits.target[i]) "
   ]
  },
  {
   "cell_type": "code",
   "execution_count": 10,
   "metadata": {},
   "outputs": [
    {
     "data": {
      "text/plain": [
       "KNeighborsClassifier(algorithm='auto', leaf_size=30, metric='minkowski',\n",
       "           metric_params=None, n_jobs=1, n_neighbors=5, p=2,\n",
       "           weights='uniform')"
      ]
     },
     "execution_count": 10,
     "metadata": {},
     "output_type": "execute_result"
    }
   ],
   "source": [
    "(X_train, X_test, y_train, y_test) = cv.train_test_split(X, y, test_size=.25)\n",
    "knc = nb.KNeighborsClassifier()\n",
    "knc.fit(X_train, y_train) # 学習"
   ]
  },
  {
   "cell_type": "code",
   "execution_count": 11,
   "metadata": {},
   "outputs": [
    {
     "data": {
      "text/plain": [
       "array([  0.,   0.,   3.,  13.,   6.,   0.,   0.,   0.,   0.,   0.,  14.,\n",
       "        11.,  15.,   8.,   0.,   0.,   0.,   0.,  15.,   1.,  14.,  16.,\n",
       "         1.,   0.,   0.,   0.,  11.,  13.,  12.,  13.,   5.,   0.,   0.,\n",
       "         0.,   3.,   8.,   1.,   8.,  10.,   0.,   0.,   0.,   0.,   0.,\n",
       "         0.,   9.,   6.,   0.,   0.,   0.,   9.,   4.,   3.,  16.,   2.,\n",
       "         0.,   0.,   0.,   4.,  14.,  14.,   7.,   0.,   0.])"
      ]
     },
     "execution_count": 11,
     "metadata": {},
     "output_type": "execute_result"
    }
   ],
   "source": [
    "X_test[1]"
   ]
  },
  {
   "cell_type": "code",
   "execution_count": 14,
   "metadata": {},
   "outputs": [
    {
     "data": {
      "text/plain": [
       "0.97999999999999998"
      ]
     },
     "execution_count": 14,
     "metadata": {},
     "output_type": "execute_result"
    }
   ],
   "source": [
    "knc.score(X_test, y_test) # 学習済み分類きのscore表示"
   ]
  },
  {
   "cell_type": "code",
   "execution_count": 15,
   "metadata": {},
   "outputs": [
    {
     "data": {
      "text/plain": [
       "array([9])"
      ]
     },
     "execution_count": 15,
     "metadata": {},
     "output_type": "execute_result"
    }
   ],
   "source": [
    "knc.predict(X_test[1].reshape(1, -1)) # 適当なテストデータで分類実行"
   ]
  },
  {
   "cell_type": "code",
   "execution_count": 16,
   "metadata": {},
   "outputs": [
    {
     "data": {
      "text/plain": [
       "9"
      ]
     },
     "execution_count": 16,
     "metadata": {},
     "output_type": "execute_result"
    }
   ],
   "source": [
    "y_test[1]"
   ]
  },
  {
   "cell_type": "code",
   "execution_count": 17,
   "metadata": {},
   "outputs": [
    {
     "data": {
      "text/plain": [
       "array([[  0.,   0.,   0.,   0.,   0.,   0.,   0.,   0.],\n",
       "       [  0.,   0.,   0.,   0.,  16.,   0.,   0.,   0.],\n",
       "       [  0.,   0.,   0.,   0.,  16.,   0.,   0.,   0.],\n",
       "       [  0.,   0.,   0.,   0.,  16.,   0.,   0.,   0.],\n",
       "       [  0.,   0.,   0.,   0.,  16.,   0.,   0.,   0.],\n",
       "       [  0.,   0.,   0.,   0.,  16.,   0.,   0.,   0.],\n",
       "       [  0.,   0.,   0.,   0.,  16.,   0.,   0.,   0.],\n",
       "       [  0.,   0.,   0.,   0.,   0.,   0.,   0.,   0.]])"
      ]
     },
     "execution_count": 17,
     "metadata": {},
     "output_type": "execute_result"
    }
   ],
   "source": [
    "# テストデータを作成して試す\n",
    "one = np.zeros((8, 8))\n",
    "one[1:-1, 4] = 16\n",
    "one"
   ]
  },
  {
   "cell_type": "code",
   "execution_count": 18,
   "metadata": {},
   "outputs": [
    {
     "data": {
      "text/plain": [
       "Text(0.5,1,'One')"
      ]
     },
     "execution_count": 18,
     "metadata": {},
     "output_type": "execute_result"
    },
    {
     "data": {
      "image/png": "[encoded data removed]",
      "text/plain": [
       "<matplotlib.figure.Figure at 0x10ef31860>"
      ]
     },
     "metadata": {},
     "output_type": "display_data"
    }
   ],
   "source": [
    "plt.imshow(one, interpolation='none')\n",
    "plt.grid(False)\n",
    "plt.xticks()\n",
    "plt.yticks()\n",
    "plt.title(\"One\") # テスト用のデータ(1)を表示"
   ]
  },
  {
   "cell_type": "code",
   "execution_count": 19,
   "metadata": {},
   "outputs": [
    {
     "data": {
      "text/plain": [
       "array([1])"
      ]
     },
     "execution_count": 19,
     "metadata": {},
     "output_type": "execute_result"
    }
   ],
   "source": [
    "knc.predict(one.reshape(1, -1)) # 評価"
   ]
  },
  {
   "cell_type": "code",
   "execution_count": null,
   "metadata": {},
   "outputs": [],
   "source": []
  }
 ],
 "metadata": {
  "kernelspec": {
   "display_name": "Python 3",
   "language": "python",
   "name": "python3"
  },
  "language_info": {
   "codemirror_mode": {
    "name": "ipython",
    "version": 3
   },
   "file_extension": ".py",
   "mimetype": "text/x-python",
   "name": "python",
   "nbconvert_exporter": "python",
   "pygments_lexer": "ipython3",
   "version": "3.5.1"
  }
 },
 "nbformat": 4,
 "nbformat_minor": 2
}
