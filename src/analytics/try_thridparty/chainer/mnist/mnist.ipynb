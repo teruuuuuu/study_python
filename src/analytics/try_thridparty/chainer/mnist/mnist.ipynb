{
 "cells": [
  {
   "cell_type": "code",
   "execution_count": 1,
   "metadata": {},
   "outputs": [],
   "source": [
    "%matplotlib inline\n",
    "import six\n",
    "import matplotlib.pyplot as plt\n",
    "import numpy as np\n",
    "from sklearn.datasets import fetch_mldata\n",
    "from chainer import cuda, Variable, FunctionSet, optimizers\n",
    "import chainer.functions  as F\n",
    "from chainer import serializers\n",
    "\n",
    "import sys\n",
    "\n",
    "plt.style.use('ggplot')"
   ]
  },
  {
   "cell_type": "code",
   "execution_count": 2,
   "metadata": {},
   "outputs": [
    {
     "name": "stdout",
     "output_type": "stream",
     "text": [
      "fetch MNIST dataset\n"
     ]
    }
   ],
   "source": [
    "# 確率的勾配降下法で学習させる際の１回分のバッチサイズ\n",
    "batchsize = 100\n",
    "\n",
    "# 学習の繰り返し回数\n",
    "n_epoch   = 20\n",
    "\n",
    "# 中間層の数\n",
    "n_units   = 1000\n",
    "\n",
    "# MNISTの手書き数字データのダウンロード\n",
    "# #HOME/scikit_learn_data/mldata/mnist-original.mat にキャッシュされる\n",
    "print('fetch MNIST dataset')\n",
    "mnist = fetch_mldata('MNIST original')\n",
    "# mnist.data : 70,000件の784次元ベクトルデータ\n",
    "mnist.data   = mnist.data.astype(np.float32)\n",
    "mnist.data  /= 255     # 0-1のデータに変換\n",
    "\n",
    "# mnist.target : 正解データ（教師データ）\n",
    "mnist.target = mnist.target.astype(np.int32)"
   ]
  },
  {
   "cell_type": "code",
   "execution_count": 3,
   "metadata": {},
   "outputs": [],
   "source": [
    "# 手書き数字データを描画する関数\n",
    "def draw_digit(data):\n",
    "    size = 28\n",
    "    plt.figure(figsize=(2.5, 3))\n",
    "\n",
    "    X, Y = np.meshgrid(range(size),range(size))\n",
    "    Z = data.reshape(size,size)   # convert from vector to 28x28 matrix\n",
    "    Z = Z[::-1,:]             # flip vertical\n",
    "    plt.xlim(0,27)\n",
    "    plt.ylim(0,27)\n",
    "    plt.pcolor(X, Y, Z)\n",
    "    plt.gray()\n",
    "    plt.tick_params(labelbottom=\"off\")\n",
    "    plt.tick_params(labelleft=\"off\")\n",
    "\n",
    "    plt.show()\n",
    "\n",
    "#draw_digit(mnist.data[5])\n",
    "#draw_digit(mnist.data[12345])\n",
    "#draw_digit(mnist.data[33456])\n",
    "#draw_digit(mnist.data[33456])\n"
   ]
  },
  {
   "cell_type": "code",
   "execution_count": 4,
   "metadata": {},
   "outputs": [],
   "source": [
    "# 学習用データを N個、検証用データを残りの個数と設定\n",
    "N = 60000\n",
    "x_train, x_test = np.split(mnist.data,   [N])\n",
    "y_train, y_test = np.split(mnist.target, [N])\n",
    "N_test = y_test.size\n",
    "\n",
    "# Prepare multi-layer perceptron model\n",
    "# 多層パーセプトロンモデルの設定\n",
    "# 入力 784次元、出力 10次元\n",
    "# 784次元 ← 28 * 28の画像を入力\n",
    "model = FunctionSet(l1=F.Linear(784, n_units),\n",
    "                    l2=F.Linear(n_units, n_units),\n",
    "                    l3=F.Linear(n_units, 10))\n",
    "\n",
    "# Neural net architecture\n",
    "# ニューラルネットの構造\n",
    "def forward(x_data, y_data, train=True):\n",
    "    x, t = Variable(x_data), Variable(y_data)\n",
    "    h1 = F.dropout(F.relu(model.l1(x)),  train=train)\n",
    "    h2 = F.dropout(F.relu(model.l2(h1)), train=train)\n",
    "    y  = model.l3(h2)\n",
    "    # 多クラス分類なので誤差関数としてソフトマックス関数の\n",
    "    # 交差エントロピー関数を用いて、誤差を導出\n",
    "    return F.softmax_cross_entropy(y, t), F.accuracy(y, t)\n",
    "\n",
    "# Setup optimizer\n",
    "optimizer = optimizers.Adam()\n",
    "optimizer.setup(model)"
   ]
  },
  {
   "cell_type": "code",
   "execution_count": 5,
   "metadata": {},
   "outputs": [
    {
     "data": {
      "image/png": "[encoded data removed]",
      "text/plain": [
       "<matplotlib.figure.Figure at 0x10b3bbe80>"
      ]
     },
     "metadata": {},
     "output_type": "display_data"
    },
    {
     "name": "stdout",
     "output_type": "stream",
     "text": [
      "5\n"
     ]
    }
   ],
   "source": [
    "draw_digit(x_train[33456])\n",
    "print(y_train[33456])"
   ]
  },
  {
   "cell_type": "code",
   "execution_count": 6,
   "metadata": {
    "scrolled": true
   },
   "outputs": [
    {
     "name": "stdout",
     "output_type": "stream",
     "text": [
      "epoch 1\n",
      "train mean loss=0.2779998258563379, accuracy=0.9145833344012498\n",
      "test  mean loss=0.10270386090036482, accuracy=0.9688000059127808\n",
      "epoch 2\n",
      "train mean loss=0.1354206131041671, accuracy=0.9582666710019112\n",
      "test  mean loss=0.08867655693553388, accuracy=0.9730000054836273\n",
      "epoch 3\n",
      "train mean loss=0.10787555148048947, accuracy=0.9672166732947032\n",
      "test  mean loss=0.07023880444612587, accuracy=0.9776000064611435\n",
      "epoch 4\n",
      "train mean loss=0.09424315575044602, accuracy=0.9706666765610377\n",
      "test  mean loss=0.07566015191841871, accuracy=0.9774000060558319\n",
      "epoch 5\n",
      "train mean loss=0.08356231693023194, accuracy=0.9738666752974192\n",
      "test  mean loss=0.06895839984412305, accuracy=0.9785000061988831\n",
      "epoch 6\n",
      "train mean loss=0.07586805920271823, accuracy=0.9765666766961416\n",
      "test  mean loss=0.06770308726035182, accuracy=0.9798000067472458\n",
      "epoch 7\n",
      "train mean loss=0.06908873832939813, accuracy=0.9778666764497757\n",
      "test  mean loss=0.06608564271082287, accuracy=0.9807000064849853\n",
      "epoch 8\n",
      "train mean loss=0.06724591311765835, accuracy=0.9787666773796082\n",
      "test  mean loss=0.08085156849219857, accuracy=0.9778000044822693\n",
      "epoch 9\n",
      "train mean loss=0.06362935729053182, accuracy=0.9802500103910764\n",
      "test  mean loss=0.06326265322808468, accuracy=0.9820000100135803\n",
      "epoch 10\n",
      "train mean loss=0.0616039370308863, accuracy=0.9812333436806997\n",
      "test  mean loss=0.062889434715471, accuracy=0.9822000062465668\n",
      "epoch 11\n",
      "train mean loss=0.05632154312246712, accuracy=0.983100010852019\n",
      "test  mean loss=0.05996565175828209, accuracy=0.9845000058412552\n",
      "epoch 12\n",
      "train mean loss=0.0598652749217581, accuracy=0.9823166773716608\n",
      "test  mean loss=0.06578126217758835, accuracy=0.9823000055551528\n",
      "epoch 13\n",
      "train mean loss=0.05284177019852602, accuracy=0.9841500110427539\n",
      "test  mean loss=0.06534017182217212, accuracy=0.9830000066757202\n",
      "epoch 14\n",
      "train mean loss=0.051804441629792565, accuracy=0.9840166770418485\n",
      "test  mean loss=0.06255048006606045, accuracy=0.983800003528595\n",
      "epoch 15\n",
      "train mean loss=0.052678534674923866, accuracy=0.9840500112374624\n",
      "test  mean loss=0.06681276117757079, accuracy=0.982800008058548\n",
      "epoch 16\n",
      "train mean loss=0.046472874961279255, accuracy=0.9860666765769323\n",
      "test  mean loss=0.06411968496975305, accuracy=0.984400007724762\n",
      "epoch 17\n",
      "train mean loss=0.044545672500001576, accuracy=0.9856500098109245\n",
      "test  mean loss=0.07081749278625529, accuracy=0.9838000041246414\n",
      "epoch 18\n",
      "train mean loss=0.046842697930405845, accuracy=0.9858666766683261\n",
      "test  mean loss=0.06629331394311067, accuracy=0.9830000066757202\n",
      "epoch 19\n",
      "train mean loss=0.04271717298790463, accuracy=0.9870166767636935\n",
      "test  mean loss=0.07818232170252032, accuracy=0.9816000056266785\n",
      "epoch 20\n",
      "train mean loss=0.04616453444881093, accuracy=0.9863666768868764\n",
      "test  mean loss=0.06770210413108885, accuracy=0.983500006198883\n"
     ]
    }
   ],
   "source": [
    "train_loss = []\n",
    "train_acc  = []\n",
    "test_loss = []\n",
    "test_acc  = []\n",
    "\n",
    "l1_W = []\n",
    "l2_W = []\n",
    "l3_W = []\n",
    "\n",
    "# Learning loop\n",
    "for epoch in six.moves.range(1, n_epoch + 1):\n",
    "    print ('epoch', epoch)\n",
    "\n",
    "    # training\n",
    "    # N個の順番をランダムに並び替える\n",
    "    perm = np.random.permutation(N)\n",
    "    sum_accuracy = 0\n",
    "    sum_loss = 0\n",
    "    # 0〜Nまでのデータをバッチサイズごとに使って学習\n",
    "    for i in six.moves.range(0, N, batchsize):\n",
    "        x_batch = x_train[perm[i:i+batchsize]]\n",
    "        y_batch = y_train[perm[i:i+batchsize]]\n",
    "\n",
    "        # 勾配を初期化\n",
    "        optimizer.zero_grads()\n",
    "        # 順伝播させて誤差と精度を算出\n",
    "        loss, acc = forward(x_batch, y_batch)\n",
    "        # 誤差逆伝播で勾配を計算\n",
    "        loss.backward()\n",
    "        optimizer.update()\n",
    "        sum_loss     += float(cuda.to_cpu(loss.data)) * batchsize\n",
    "        sum_accuracy += float(cuda.to_cpu(acc.data)) * batchsize\n",
    "\n",
    "    # 訓練データの誤差と、正解精度を表示\n",
    "    print ('train mean loss={}, accuracy={}'.format(sum_loss / N, sum_accuracy / N))\n",
    "\n",
    "    train_loss.append(sum_loss / N)\n",
    "    train_acc.append(sum_accuracy / N)\n",
    "\n",
    "    # evaluation\n",
    "    # テストデータで誤差と、正解精度を算出し汎化性能を確認\n",
    "    sum_accuracy = 0\n",
    "    sum_loss     = 0\n",
    "    for i in six.moves.range(0, N_test, batchsize):\n",
    "        x_batch = x_test[i:i+batchsize]\n",
    "        y_batch = y_test[i:i+batchsize]\n",
    "\n",
    "        # 順伝播させて誤差と精度を算出\n",
    "        loss, acc = forward(x_batch, y_batch, train=False)\n",
    "\n",
    "        sum_loss     += float(cuda.to_cpu(loss.data)) * batchsize\n",
    "        sum_accuracy += float(cuda.to_cpu(acc.data)) * batchsize\n",
    "\n",
    "    # テストデータでの誤差と、正解精度を表示\n",
    "    print('test  mean loss={}, accuracy={}'.format(sum_loss / N_test, sum_accuracy / N_test))\n",
    "    test_loss.append(sum_loss / N_test)\n",
    "    test_acc.append(sum_accuracy / N_test)\n",
    "\n",
    "    # 学習したパラメーターを保存\n",
    "    l1_W.append(model.l1.W)\n",
    "    l2_W.append(model.l2.W)\n",
    "    l3_W.append(model.l3.W)\n"
   ]
  },
  {
   "cell_type": "code",
   "execution_count": 7,
   "metadata": {},
   "outputs": [
    {
     "data": {
      "text/plain": [
       "[]"
      ]
     },
     "execution_count": 7,
     "metadata": {},
     "output_type": "execute_result"
    },
    {
     "data": {
      "image/png": "[encoded data removed]",
      "text/plain": [
       "<matplotlib.figure.Figure at 0x11df175c0>"
      ]
     },
     "metadata": {},
     "output_type": "display_data"
    }
   ],
   "source": [
    "# 精度と誤差をグラフ描画\n",
    "plt.figure(figsize=(8,6))\n",
    "plt.plot(range(len(train_acc)), train_acc)\n",
    "plt.plot(range(len(test_acc)), test_acc)\n",
    "plt.legend([\"train_acc\",\"test_acc\"],loc=4)\n",
    "plt.title(\"Accuracy of digit recognition.\")\n",
    "plt.plot()"
   ]
  },
  {
   "cell_type": "code",
   "execution_count": 8,
   "metadata": {},
   "outputs": [
    {
     "name": "stdout",
     "output_type": "stream",
     "text": [
      "save the model\n",
      "save the optimizer\n"
     ]
    }
   ],
   "source": [
    "# Save the model and the optimizer\n",
    "print('save the model')\n",
    "serializers.save_npz('mnist.model', model)\n",
    "print('save the optimizer')\n",
    "serializers.save_npz('mnist.state', optimizer)"
   ]
  },
  {
   "cell_type": "code",
   "execution_count": null,
   "metadata": {
    "collapsed": true
   },
   "outputs": [],
   "source": []
  },
  {
   "cell_type": "code",
   "execution_count": 9,
   "metadata": {},
   "outputs": [
    {
     "name": "stdout",
     "output_type": "stream",
     "text": [
      "load the model\n",
      "load the optimizer\n"
     ]
    }
   ],
   "source": [
    "# load the model and the optimizer\n",
    "model = FunctionSet(l1=F.Linear(784, n_units),\n",
    "                    l2=F.Linear(n_units, n_units),\n",
    "                    l3=F.Linear(n_units, 10))\n",
    "optimizer = optimizers.Adam()\n",
    "optimizer.setup(model)\n",
    "print('load the model')\n",
    "serializers.load_npz('mnist.model',  model)\n",
    "print('load the optimizer')\n",
    "serializers.load_npz('mnist.state', optimizer)"
   ]
  },
  {
   "cell_type": "code",
   "execution_count": 10,
   "metadata": {},
   "outputs": [
    {
     "name": "stdout",
     "output_type": "stream",
     "text": [
      "[0]\n"
     ]
    },
    {
     "data": {
      "image/png": "[encoded data removed]",
      "text/plain": [
       "<matplotlib.figure.Figure at 0x107bd0a20>"
      ]
     },
     "metadata": {},
     "output_type": "display_data"
    },
    {
     "name": "stdout",
     "output_type": "stream",
     "text": [
      "index: 0  val: 34.456\n",
      "index: 1  val: -35.0183\n",
      "index: 2  val: -2.48783\n",
      "index: 3  val: -26.1598\n",
      "index: 4  val: -17.1012\n",
      "index: 5  val: -22.9886\n",
      "index: 6  val: -9.92202\n",
      "index: 7  val: -16.0058\n",
      "index: 8  val: -18.4717\n",
      "index: 9  val: -4.97025\n",
      "result: 0\n"
     ]
    }
   ],
   "source": [
    "perm = np.random.permutation(N)\n",
    "print(y_train[perm[5:6]])\n",
    "draw_digit(x_train[perm[5:6]])\n",
    "\n",
    "\n",
    "x = Variable(x_train[perm[5:6]])\n",
    "#x = Variable(x_train[[27034]])\n",
    "\n",
    "h1 = F.dropout(F.relu(model.l1(x)),  train=False)\n",
    "h2 = F.dropout(F.relu(model.l2(h1)), train=False)\n",
    "y  = model.l3(h2)\n",
    "y.data\n",
    "#perm[5:6]\n",
    "#y\n",
    "\n",
    "max = None\n",
    "index = -1\n",
    "for i in range(len(y.data[0])):\n",
    "    print(\"index:\" , i , \" val:\" , y.data[0][i])\n",
    "    if max == None or  y.data[0][i] > max:\n",
    "        max = y.data[0][i] \n",
    "        index = i\n",
    "print(\"result:\", index)"
   ]
  },
  {
   "cell_type": "code",
   "execution_count": null,
   "metadata": {
    "collapsed": true
   },
   "outputs": [],
   "source": []
  },
  {
   "cell_type": "code",
   "execution_count": null,
   "metadata": {
    "collapsed": true
   },
   "outputs": [],
   "source": []
  }
 ],
 "metadata": {
  "kernelspec": {
   "display_name": "Python 3",
   "language": "python",
   "name": "python3"
  },
  "language_info": {
   "codemirror_mode": {
    "name": "ipython",
    "version": 3
   },
   "file_extension": ".py",
   "mimetype": "text/x-python",
   "name": "python",
   "nbconvert_exporter": "python",
   "pygments_lexer": "ipython3",
   "version": "3.5.1"
  }
 },
 "nbformat": 4,
 "nbformat_minor": 1
}
