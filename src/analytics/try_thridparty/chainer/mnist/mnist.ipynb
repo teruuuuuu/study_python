{
 "cells": [
  {
   "cell_type": "code",
   "execution_count": null,
   "metadata": {
    "collapsed": true
   },
   "outputs": [],
   "source": [
    "%matplotlib inline\n",
    "import six\n",
    "import matplotlib.pyplot as plt\n",
    "import numpy as np\n",
    "from sklearn.datasets import fetch_mldata\n",
    "from chainer import cuda, Variable, FunctionSet, optimizers\n",
    "import chainer.functions  as F\n",
    "from chainer import serializers\n",
    "\n",
    "import sys\n",
    "\n",
    "plt.style.use('ggplot')"
   ]
  },
  {
   "cell_type": "code",
   "execution_count": 2,
   "metadata": {
    "collapsed": false
   },
   "outputs": [
    {
     "name": "stdout",
     "output_type": "stream",
     "text": [
      "fetch MNIST dataset\n"
     ]
    }
   ],
   "source": [
    "# 確率的勾配降下法で学習させる際の１回分のバッチサイズ\n",
    "batchsize = 100\n",
    "\n",
    "# 学習の繰り返し回数\n",
    "n_epoch   = 20\n",
    "\n",
    "# 中間層の数\n",
    "n_units   = 1000\n",
    "\n",
    "# MNISTの手書き数字データのダウンロード\n",
    "# #HOME/scikit_learn_data/mldata/mnist-original.mat にキャッシュされる\n",
    "print('fetch MNIST dataset')\n",
    "mnist = fetch_mldata('MNIST original')\n",
    "# mnist.data : 70,000件の784次元ベクトルデータ\n",
    "mnist.data   = mnist.data.astype(np.float32)\n",
    "mnist.data  /= 255     # 0-1のデータに変換\n",
    "\n",
    "# mnist.target : 正解データ（教師データ）\n",
    "mnist.target = mnist.target.astype(np.int32)"
   ]
  },
  {
   "cell_type": "code",
   "execution_count": 3,
   "metadata": {
    "collapsed": true
   },
   "outputs": [],
   "source": [
    "# 手書き数字データを描画する関数\n",
    "def draw_digit(data):\n",
    "    size = 28\n",
    "    plt.figure(figsize=(2.5, 3))\n",
    "\n",
    "    X, Y = np.meshgrid(range(size),range(size))\n",
    "    Z = data.reshape(size,size)   # convert from vector to 28x28 matrix\n",
    "    Z = Z[::-1,:]             # flip vertical\n",
    "    plt.xlim(0,27)\n",
    "    plt.ylim(0,27)\n",
    "    plt.pcolor(X, Y, Z)\n",
    "    plt.gray()\n",
    "    plt.tick_params(labelbottom=\"off\")\n",
    "    plt.tick_params(labelleft=\"off\")\n",
    "\n",
    "    plt.show()\n",
    "\n",
    "#draw_digit(mnist.data[5])\n",
    "#draw_digit(mnist.data[12345])\n",
    "#draw_digit(mnist.data[33456])\n",
    "#draw_digit(mnist.data[33456])\n"
   ]
  },
  {
   "cell_type": "code",
   "execution_count": 4,
   "metadata": {
    "collapsed": true
   },
   "outputs": [],
   "source": [
    "# 学習用データを N個、検証用データを残りの個数と設定\n",
    "N = 60000\n",
    "x_train, x_test = np.split(mnist.data,   [N])\n",
    "y_train, y_test = np.split(mnist.target, [N])\n",
    "N_test = y_test.size\n",
    "\n",
    "# Prepare multi-layer perceptron model\n",
    "# 多層パーセプトロンモデルの設定\n",
    "# 入力 784次元、出力 10次元\n",
    "# 784次元 ← 28 * 28の画像を入力\n",
    "model = FunctionSet(l1=F.Linear(784, n_units),\n",
    "                    l2=F.Linear(n_units, n_units),\n",
    "                    l3=F.Linear(n_units, 10))\n",
    "\n",
    "# Neural net architecture\n",
    "# ニューラルネットの構造\n",
    "def forward(x_data, y_data, train=True):\n",
    "    x, t = Variable(x_data), Variable(y_data)\n",
    "    h1 = F.dropout(F.relu(model.l1(x)),  train=train)\n",
    "    h2 = F.dropout(F.relu(model.l2(h1)), train=train)\n",
    "    y  = model.l3(h2)\n",
    "    # 多クラス分類なので誤差関数としてソフトマックス関数の\n",
    "    # 交差エントロピー関数を用いて、誤差を導出\n",
    "    return F.softmax_cross_entropy(y, t), F.accuracy(y, t)\n",
    "\n",
    "# Setup optimizer\n",
    "optimizer = optimizers.Adam()\n",
    "optimizer.setup(model)"
   ]
  },
  {
   "cell_type": "code",
   "execution_count": 5,
   "metadata": {
    "collapsed": false
   },
   "outputs": [
    {
     "data": {
      "image/png": "[encoded data removed]",
      "text/plain": [
       "<matplotlib.figure.Figure at 0x107f387b8>"
      ]
     },
     "metadata": {},
     "output_type": "display_data"
    },
    {
     "name": "stdout",
     "output_type": "stream",
     "text": [
      "5\n"
     ]
    }
   ],
   "source": [
    "draw_digit(x_train[33456])\n",
    "print(y_train[33456])"
   ]
  },
  {
   "cell_type": "code",
   "execution_count": 6,
   "metadata": {
    "collapsed": false,
    "scrolled": true
   },
   "outputs": [
    {
     "name": "stdout",
     "output_type": "stream",
     "text": [
      "epoch 1\n",
      "train mean loss=3.3561335449914136, accuracy=0.7222500002632538\n",
      "test  mean loss=4.892250904178805, accuracy=0.7694000013172626\n",
      "epoch 2\n",
      "train mean loss=56.26083917617798, accuracy=0.5939333321154118\n",
      "test  mean loss=37.42908650755882, accuracy=0.7550000013411045\n",
      "epoch 3\n",
      "train mean loss=189.95184919993082, accuracy=0.5882833315432072\n",
      "test  mean loss=115.51796243332326, accuracy=0.7191000007838011\n",
      "epoch 4\n",
      "train mean loss=395.540954691569, accuracy=0.5961666659017404\n",
      "test  mean loss=108.700798445642, accuracy=0.838600001335144\n",
      "epoch 5\n",
      "train mean loss=605.5116298929851, accuracy=0.612766666362683\n",
      "test  mean loss=392.3828821563721, accuracy=0.7173000020161271\n",
      "epoch 6\n",
      "train mean loss=875.0841250101726, accuracy=0.6208166652421157\n",
      "test  mean loss=328.1500767636299, accuracy=0.7960000003874302\n",
      "epoch 7\n",
      "train mean loss=1197.6624294026692, accuracy=0.6240666672090689\n",
      "test  mean loss=660.9412345075607, accuracy=0.7541999995708466\n",
      "epoch 8\n",
      "train mean loss=1460.1671019999187, accuracy=0.6390333337585131\n",
      "test  mean loss=1004.7487778359651, accuracy=0.7729000000096857\n",
      "epoch 9\n",
      "train mean loss=1881.9170587158203, accuracy=0.6421000007291635\n",
      "test  mean loss=882.7053935456275, accuracy=0.7927000018954277\n",
      "epoch 10\n",
      "train mean loss=2274.5155302937824, accuracy=0.6471333352724711\n",
      "test  mean loss=1111.8317782473564, accuracy=0.7572000047005712\n",
      "epoch 11\n",
      "train mean loss=2779.1985284423827, accuracy=0.6492833339174588\n",
      "test  mean loss=2038.2279852390288, accuracy=0.7158000021986664\n",
      "epoch 12\n",
      "train mean loss=3170.903170776367, accuracy=0.6556333333253861\n",
      "test  mean loss=1127.1679245567323, accuracy=0.8090000021457672\n",
      "epoch 13\n",
      "train mean loss=3419.736760457357, accuracy=0.6664000004529953\n",
      "test  mean loss=1245.5844029426576, accuracy=0.846500001847744\n",
      "epoch 14\n",
      "train mean loss=4122.006373087565, accuracy=0.6657000009218852\n",
      "test  mean loss=1963.1808406496048, accuracy=0.8011000001430512\n",
      "epoch 15\n",
      "train mean loss=4414.235310262045, accuracy=0.6739500020941098\n",
      "test  mean loss=2764.100881471634, accuracy=0.775600001513958\n",
      "epoch 16\n",
      "train mean loss=5154.6302695719405, accuracy=0.6733333343764146\n",
      "test  mean loss=2044.671915140152, accuracy=0.8168000036478043\n",
      "epoch 17\n",
      "train mean loss=5400.246587727865, accuracy=0.6802166678508123\n",
      "test  mean loss=3645.024352684021, accuracy=0.7535000027343631\n",
      "epoch 18\n",
      "train mean loss=6323.83044555664, accuracy=0.6807833341757457\n",
      "test  mean loss=3593.1450686359403, accuracy=0.8107000015676021\n",
      "epoch 19\n",
      "train mean loss=6915.610983479818, accuracy=0.6829666682581107\n",
      "test  mean loss=3284.955301208496, accuracy=0.8139000017940998\n",
      "epoch 20\n",
      "train mean loss=7634.814991455078, accuracy=0.687233334283034\n",
      "test  mean loss=3354.415443456173, accuracy=0.8337000048160553\n"
     ]
    },
    {
     "data": {
      "text/plain": [
       "[]"
      ]
     },
     "execution_count": 6,
     "metadata": {},
     "output_type": "execute_result"
    },
    {
     "data": {
      "image/png": "[encoded data removed]",
      "text/plain": [
       "<matplotlib.figure.Figure at 0x11ad6e978>"
      ]
     },
     "metadata": {},
     "output_type": "display_data"
    }
   ],
   "source": [
    "train_loss = []\n",
    "train_acc  = []\n",
    "test_loss = []\n",
    "test_acc  = []\n",
    "\n",
    "l1_W = []\n",
    "l2_W = []\n",
    "l3_W = []\n",
    "\n",
    "# Learning loop\n",
    "for epoch in six.moves.range(1, n_epoch + 1):\n",
    "    print ('epoch', epoch)\n",
    "\n",
    "    # training\n",
    "    # N個の順番をランダムに並び替える\n",
    "    perm = np.random.permutation(N)\n",
    "    sum_accuracy = 0\n",
    "    sum_loss = 0\n",
    "    # 0〜Nまでのデータをバッチサイズごとに使って学習\n",
    "    for i in six.moves.range(0, N, batchsize):\n",
    "        x_batch = x_train[perm[i:i+batchsize]]\n",
    "        y_batch = y_train[perm[i:i+batchsize]]\n",
    "\n",
    "        # 勾配を初期化\n",
    "        optimizer.zero_grads()\n",
    "        # 順伝播させて誤差と精度を算出\n",
    "        loss, acc = forward(x_batch, y_batch)\n",
    "        # 誤差逆伝播で勾配を計算\n",
    "        loss.backward()\n",
    "        optimizer.update()\n",
    "        sum_loss     += float(cuda.to_cpu(loss.data)) * batchsize\n",
    "        sum_accuracy += float(cuda.to_cpu(acc.data)) * batchsize\n",
    "\n",
    "    # 訓練データの誤差と、正解精度を表示\n",
    "    print ('train mean loss={}, accuracy={}'.format(sum_loss / N, sum_accuracy / N))\n",
    "\n",
    "    train_loss.append(sum_loss / N)\n",
    "    train_acc.append(sum_accuracy / N)\n",
    "\n",
    "    # evaluation\n",
    "    # テストデータで誤差と、正解精度を算出し汎化性能を確認\n",
    "    sum_accuracy = 0\n",
    "    sum_loss     = 0\n",
    "    for i in six.moves.range(0, N_test, batchsize):\n",
    "        x_batch = x_test[i:i+batchsize]\n",
    "        y_batch = y_test[i:i+batchsize]\n",
    "\n",
    "        # 順伝播させて誤差と精度を算出\n",
    "        loss, acc = forward(x_batch, y_batch, train=False)\n",
    "\n",
    "        sum_loss     += float(cuda.to_cpu(loss.data)) * batchsize\n",
    "        sum_accuracy += float(cuda.to_cpu(acc.data)) * batchsize\n",
    "\n",
    "    # テストデータでの誤差と、正解精度を表示\n",
    "    print('test  mean loss={}, accuracy={}'.format(sum_loss / N_test, sum_accuracy / N_test))\n",
    "    test_loss.append(sum_loss / N_test)\n",
    "    test_acc.append(sum_accuracy / N_test)\n",
    "\n",
    "    # 学習したパラメーターを保存\n",
    "    l1_W.append(model.l1.W)\n",
    "    l2_W.append(model.l2.W)\n",
    "    l3_W.append(model.l3.W)\n"
   ]
  },
  {
   "cell_type": "code",
   "execution_count": 23,
   "metadata": {
    "collapsed": false
   },
   "outputs": [
    {
     "data": {
      "text/plain": [
       "[]"
      ]
     },
     "execution_count": 23,
     "metadata": {},
     "output_type": "execute_result"
    },
    {
     "data": {
      "image/png": "[encoded data removed]",
      "text/plain": [
       "<matplotlib.figure.Figure at 0x11ad5e860>"
      ]
     },
     "metadata": {},
     "output_type": "display_data"
    }
   ],
   "source": [
    "# 精度と誤差をグラフ描画\n",
    "plt.figure(figsize=(8,6))\n",
    "plt.plot(range(len(train_acc)), train_acc)\n",
    "plt.plot(range(len(test_acc)), test_acc)\n",
    "plt.legend([\"train_acc\",\"test_acc\"],loc=4)\n",
    "plt.title(\"Accuracy of digit recognition.\")\n",
    "plt.plot()"
   ]
  },
  {
   "cell_type": "code",
   "execution_count": 7,
   "metadata": {
    "collapsed": false
   },
   "outputs": [
    {
     "name": "stdout",
     "output_type": "stream",
     "text": [
      "save the model\n",
      "save the optimizer\n"
     ]
    }
   ],
   "source": [
    "# Save the model and the optimizer\n",
    "print('save the model')\n",
    "serializers.save_npz('mnist.model', model)\n",
    "print('save the optimizer')\n",
    "serializers.save_npz('mnist.state', optimizer)"
   ]
  },
  {
   "cell_type": "code",
   "execution_count": null,
   "metadata": {
    "collapsed": true
   },
   "outputs": [],
   "source": []
  },
  {
   "cell_type": "code",
   "execution_count": 8,
   "metadata": {
    "collapsed": false
   },
   "outputs": [
    {
     "name": "stdout",
     "output_type": "stream",
     "text": [
      "load the model\n",
      "load the optimizer\n"
     ]
    }
   ],
   "source": [
    "# load the model and the optimizer\n",
    "model = FunctionSet(l1=F.Linear(784, n_units),\n",
    "                    l2=F.Linear(n_units, n_units),\n",
    "                    l3=F.Linear(n_units, 10))\n",
    "optimizer = optimizers.Adam()\n",
    "optimizer.setup(model)\n",
    "print('load the model')\n",
    "serializers.load_npz('mnist.model',  model)\n",
    "print('load the optimizer')\n",
    "serializers.load_npz('mnist.state', optimizer)"
   ]
  },
  {
   "cell_type": "code",
   "execution_count": 22,
   "metadata": {
    "collapsed": false
   },
   "outputs": [
    {
     "name": "stdout",
     "output_type": "stream",
     "text": [
      "[3]\n"
     ]
    },
    {
     "data": {
      "image/png": "[encoded data removed]",
      "text/plain": [
       "<matplotlib.figure.Figure at 0x11ad69278>"
      ]
     },
     "metadata": {},
     "output_type": "display_data"
    },
    {
     "name": "stdout",
     "output_type": "stream",
     "text": [
      "index: 0  val: 886383.0\n",
      "index: 1  val: 976632.0\n",
      "index: 2  val: 976084.0\n",
      "index: 3  val: 1.03096e+06\n",
      "index: 4  val: 893419.0\n",
      "index: 5  val: 977700.0\n",
      "index: 6  val: 840874.0\n",
      "index: 7  val: 941588.0\n",
      "index: 8  val: 981431.0\n",
      "index: 9  val: 975641.0\n",
      "result: 3\n"
     ]
    }
   ],
   "source": [
    "perm = np.random.permutation(N)\n",
    "print(y_train[perm[5:6]])\n",
    "draw_digit(x_train[perm[5:6]])\n",
    "\n",
    "\n",
    "x = Variable(x_train[perm[5:6]])\n",
    "#x = Variable(x_train[[27034]])\n",
    "\n",
    "h1 = F.dropout(F.relu(model.l1(x)),  train=False)\n",
    "h2 = F.dropout(F.relu(model.l2(h1)), train=False)\n",
    "y  = model.l3(h2)\n",
    "y.data\n",
    "#perm[5:6]\n",
    "#y\n",
    "\n",
    "max = None\n",
    "index = -1\n",
    "for i in range(len(y.data[0])):\n",
    "    print(\"index:\" , i , \" val:\" , y.data[0][i])\n",
    "    if max == None or  y.data[0][i] > max:\n",
    "        max = y.data[0][i] \n",
    "        index = i\n",
    "print(\"result:\", index)"
   ]
  },
  {
   "cell_type": "code",
   "execution_count": null,
   "metadata": {
    "collapsed": true
   },
   "outputs": [],
   "source": []
  },
  {
   "cell_type": "code",
   "execution_count": null,
   "metadata": {
    "collapsed": true
   },
   "outputs": [],
   "source": []
  }
 ],
 "metadata": {
  "kernelspec": {
   "display_name": "Python 2",
   "language": "python",
   "name": "python2"
  },
  "language_info": {
   "codemirror_mode": {
    "name": "ipython",
    "version": 2
   },
   "file_extension": ".py",
   "mimetype": "text/x-python",
   "name": "python",
   "nbconvert_exporter": "python",
   "pygments_lexer": "ipython2",
   "version": "2.7.11"
  }
 },
 "nbformat": 4,
 "nbformat_minor": 0
}
